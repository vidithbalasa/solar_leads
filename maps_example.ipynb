{
 "cells": [
  {
   "cell_type": "code",
   "execution_count": 8,
   "metadata": {},
   "outputs": [],
   "source": [
    "import requests\n",
    "import os\n",
    "from PIL import Image"
   ]
  },
  {
   "cell_type": "code",
   "execution_count": 11,
   "metadata": {},
   "outputs": [],
   "source": [
    "def get_satellite_image(api_key, location, zoom=80, size=\"600x600\"):\n",
    "    \"\"\"\n",
    "    Fetch a satellite image for a given location using Google Maps Static API.\n",
    "\n",
    "    Parameters:\n",
    "    - api_key: Your Google Maps API key as a string.\n",
    "    - location: The location as a string, e.g., \"825 30th St, Oakland, CA 94608\".\n",
    "    - zoom: Map zoom level as an integer.\n",
    "    - size: Image size in format '{width}x{height}'.\n",
    "\n",
    "    Returns:\n",
    "    - The URL of the satellite image.\n",
    "    \"\"\"\n",
    "    base_url = \"https://maps.googleapis.com/maps/api/staticmap?\"\n",
    "    params = {\n",
    "        \"center\": location,\n",
    "        \"zoom\": str(zoom),\n",
    "        \"size\": size,\n",
    "        \"maptype\": \"satellite\",\n",
    "        \"key\": api_key\n",
    "    }\n",
    "    response = requests.get(base_url, params=params)\n",
    "    if response.status_code == 200:\n",
    "        with open(\"satellite_image.jpg\", \"wb\") as img:\n",
    "            img.write(response.content)\n",
    "        print(\"Image successfully downloaded, check your folder for 'satellite_image.jpg'.\")\n",
    "    else:\n",
    "        print(f\"Failed to download the image. Status code: {response.status_code}\")"
   ]
  },
  {
   "cell_type": "code",
   "execution_count": 15,
   "metadata": {},
   "outputs": [
    {
     "name": "stdout",
     "output_type": "stream",
     "text": [
      "Image successfully downloaded, check your folder for 'satellite_image.jpg'.\n"
     ]
    }
   ],
   "source": [
    "api_key = os.environ.get(\"GOOGLE_MAPS_API_KEY\")\n",
    "location = \"825 30th St, Oakland, CA 94608\"\n",
    "get_satellite_image(api_key, location, zoom=21)"
   ]
  }
 ],
 "metadata": {
  "kernelspec": {
   "display_name": ".venv",
   "language": "python",
   "name": "python3"
  },
  "language_info": {
   "codemirror_mode": {
    "name": "ipython",
    "version": 3
   },
   "file_extension": ".py",
   "mimetype": "text/x-python",
   "name": "python",
   "nbconvert_exporter": "python",
   "pygments_lexer": "ipython3",
   "version": "3.10.12"
  }
 },
 "nbformat": 4,
 "nbformat_minor": 2
}
